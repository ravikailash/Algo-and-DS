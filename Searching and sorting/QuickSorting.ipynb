{
 "cells": [
  {
   "cell_type": "code",
   "execution_count": 3,
   "metadata": {
    "collapsed": true
   },
   "outputs": [],
   "source": [
    "import random"
   ]
  },
  {
   "cell_type": "code",
   "execution_count": 9,
   "metadata": {
    "collapsed": true
   },
   "outputs": [],
   "source": [
    "def quicksort(arr, start, stop):\n",
    "    if stop - start < 2:\n",
    "        return\n",
    "    key = arr[random.randrange(start, stop)]\n",
    "    e = u = start\n",
    "    g = stop\n",
    "    while u < g:\n",
    "        if arr[u] < key:\n",
    "            arr[u], arr[e] = arr[e], arr[u]\n",
    "            e += 1\n",
    "            u += 1\n",
    "        elif arr[u] == key:\n",
    "            u += 1\n",
    "        else:\n",
    "            g -= 1\n",
    "            arr[u], arr[g] = arr[g], arr[u]\n",
    "    quicksort(arr, start, e)\n",
    "    quicksort(arr, g, stop)\n",
    "    "
   ]
  },
  {
   "cell_type": "code",
   "execution_count": 10,
   "metadata": {
    "collapsed": true
   },
   "outputs": [],
   "source": [
    "def qsort(arr):\n",
    "    quicksort(arr, 0, len(arr))"
   ]
  },
  {
   "cell_type": "code",
   "execution_count": 11,
   "metadata": {
    "collapsed": false
   },
   "outputs": [
    {
     "name": "stdout",
     "output_type": "stream",
     "text": [
      "Before sorting:  [42, 35, 8, 25, 14, 22, 46, 13, 18, 47]\n",
      "After sorting : [8, 13, 14, 18, 22, 25, 35, 42, 46, 47]\n"
     ]
    }
   ],
   "source": [
    "arr = random.sample(range(1, 50), 10)\n",
    "print ('Before sorting: ', arr)\n",
    "qsort(arr)\n",
    "print ('After sorting :', arr)"
   ]
  },
  {
   "cell_type": "code",
   "execution_count": 12,
   "metadata": {
    "collapsed": true
   },
   "outputs": [],
   "source": [
    "def make_partition(arr, low, high, p=False):\n",
    "    i = low - 1\n",
    "    pivot = arr[high]\n",
    "    print('==>', arr, low, high, pivot)\n",
    "    for j in range(low, high):\n",
    "        if arr[j] <= pivot:\n",
    "            i += 1\n",
    "            arr[j], arr[i] = arr[i], arr[j]\n",
    "            print(arr)\n",
    "    arr[i+1], arr[high] = arr[high], arr[i+1]\n",
    "    print('++++', arr)\n",
    "    return i+1"
   ]
  },
  {
   "cell_type": "code",
   "execution_count": 13,
   "metadata": {
    "collapsed": true
   },
   "outputs": [],
   "source": [
    "def quick_sort(arr, low, high, p=False):\n",
    "    if low < high:\n",
    "        p = make_partition(arr, low, high, p)\n",
    "        quick_sort(arr, low, p-1, p)\n",
    "        quick_sort(arr, p+1, high, p)\n",
    "    return arr"
   ]
  },
  {
   "cell_type": "code",
   "execution_count": 16,
   "metadata": {
    "collapsed": true
   },
   "outputs": [],
   "source": [
    "x = [random.randint(1, 15) for _ in range(5)]"
   ]
  },
  {
   "cell_type": "code",
   "execution_count": 17,
   "metadata": {
    "collapsed": false
   },
   "outputs": [
    {
     "name": "stdout",
     "output_type": "stream",
     "text": [
      "==> [8, 14, 1, 12, 4] 0 4 4\n",
      "[1, 14, 8, 12, 4]\n",
      "++++ [1, 4, 8, 12, 14]\n",
      "==> [1, 4, 8, 12, 14] 2 4 14\n",
      "[1, 4, 8, 12, 14]\n",
      "[1, 4, 8, 12, 14]\n",
      "++++ [1, 4, 8, 12, 14]\n",
      "==> [1, 4, 8, 12, 14] 2 3 12\n",
      "[1, 4, 8, 12, 14]\n",
      "++++ [1, 4, 8, 12, 14]\n",
      "[8, 14, 1, 12, 4]\n",
      "[1, 4, 8, 12, 14]\n"
     ]
    }
   ],
   "source": [
    "y = quick_sort(x.copy(), 0, len(x)-1)\n",
    "print(x)\n",
    "print(y)"
   ]
  },
  {
   "cell_type": "code",
   "execution_count": null,
   "metadata": {
    "collapsed": true
   },
   "outputs": [],
   "source": []
  }
 ],
 "metadata": {
  "anaconda-cloud": {},
  "kernelspec": {
   "display_name": "Python [conda root]",
   "language": "python",
   "name": "conda-root-py"
  },
  "language_info": {
   "codemirror_mode": {
    "name": "ipython",
    "version": 3
   },
   "file_extension": ".py",
   "mimetype": "text/x-python",
   "name": "python",
   "nbconvert_exporter": "python",
   "pygments_lexer": "ipython3",
   "version": "3.5.2"
  }
 },
 "nbformat": 4,
 "nbformat_minor": 1
}
