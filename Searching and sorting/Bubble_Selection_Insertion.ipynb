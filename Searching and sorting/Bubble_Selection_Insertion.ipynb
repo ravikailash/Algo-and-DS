{
 "cells": [
  {
   "cell_type": "code",
   "execution_count": 1,
   "metadata": {
    "collapsed": true
   },
   "outputs": [],
   "source": [
    "# Bubble sort\n",
    "def bubble_sort(array):\n",
    "    arr = l\n",
    "    for i in range(len(arr)-1, 0, -1):\n",
    "        for j in range(0, i):\n",
    "            if arr[j] > arr[j+1]:\n",
    "                arr[j], arr[j+1] = arr[j+1], arr[j]\n",
    "\n",
    "    return arr"
   ]
  },
  {
   "cell_type": "code",
   "execution_count": 2,
   "metadata": {
    "collapsed": true
   },
   "outputs": [],
   "source": [
    "# Selection sort\n",
    "def selection_sort(arr):\n",
    "    for i in range(len(arr)-1):\n",
    "        small_element = arr[i]\n",
    "        for j in range(i+1, len(arr)):\n",
    "            if arr[j] < small_element:\n",
    "                small_element, index = arr[j], j\n",
    "        arr[index] = arr[i]\n",
    "        arr[i] = small_element\n",
    "        \n",
    "    return arr"
   ]
  },
  {
   "cell_type": "code",
   "execution_count": 3,
   "metadata": {
    "collapsed": false
   },
   "outputs": [],
   "source": [
    "# Insertion sort\n",
    "def insertion_sort(arr):\n",
    "    for i in range(1, len(arr)):\n",
    "        j = i\n",
    "        while j > 0 and arr[j-1] > arr[j]:\n",
    "            arr[j], arr[j-1] = arr[j-1], arr[j]\n",
    "            j -= 1\n",
    "    \n",
    "    return arr"
   ]
  },
  {
   "cell_type": "code",
   "execution_count": 4,
   "metadata": {
    "collapsed": true
   },
   "outputs": [],
   "source": [
    "# Short Bubble sort\n",
    "def short_bubble_sort(arr):\n",
    "    exchanges = True\n",
    "    passnumber = len(arr)-1\n",
    "    while passnumber > 0 and exchanges:\n",
    "        exchanges = False\n",
    "        for i in range(passnumber):\n",
    "            if arr[i] > arr[i+1]:\n",
    "                exchanges = True\n",
    "                arr[i] , arr[i+1] = arr[i+1], arr[i]\n",
    "        passnumber -= 1\n",
    "\n",
    "    return arr\n"
   ]
  },
  {
   "cell_type": "code",
   "execution_count": 6,
   "metadata": {
    "collapsed": false
   },
   "outputs": [
    {
     "name": "stdout",
     "output_type": "stream",
     "text": [
      "Array      :  [5, 4, 3, 2, 1, 6, 7, 8, 9, 5, 4, 3, 2]\n",
      "Bubble sort:  [1, 2, 2, 3, 3, 4, 4, 5, 5, 6, 7, 8, 9]\n",
      "Selection  :  [1, 2, 2, 3, 3, 4, 4, 5, 5, 6, 7, 8, 9]\n",
      "Insertion  :  [1, 2, 2, 3, 3, 4, 4, 5, 5, 6, 7, 8, 9]\n",
      "ShortBubble:  [1, 2, 2, 3, 3, 4, 4, 5, 5, 6, 7, 8, 9]\n"
     ]
    }
   ],
   "source": [
    "arr = [5, 4, 3, 2, 1, 6, 7, 8, 9, 5, 4, 3, 2]\n",
    "print ('Array      : ', arr)\n",
    "print ('Bubble sort: ', bubble_sort(arr.copy()))\n",
    "print ('Selection  : ', selection_sort(arr.copy()))\n",
    "print ('Insertion  : ', insertion_sort(arr.copy()))\n",
    "print ('ShortBubble: ', short_bubble_sort(arr.copy()))"
   ]
  },
  {
   "cell_type": "code",
   "execution_count": null,
   "metadata": {
    "collapsed": true
   },
   "outputs": [],
   "source": []
  }
 ],
 "metadata": {
  "anaconda-cloud": {},
  "kernelspec": {
   "display_name": "Python [conda root]",
   "language": "python",
   "name": "conda-root-py"
  },
  "language_info": {
   "codemirror_mode": {
    "name": "ipython",
    "version": 3
   },
   "file_extension": ".py",
   "mimetype": "text/x-python",
   "name": "python",
   "nbconvert_exporter": "python",
   "pygments_lexer": "ipython3",
   "version": "3.5.2"
  }
 },
 "nbformat": 4,
 "nbformat_minor": 1
}
