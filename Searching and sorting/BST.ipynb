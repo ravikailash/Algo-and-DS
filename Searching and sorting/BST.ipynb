{
 "cells": [
  {
   "cell_type": "code",
   "execution_count": 1,
   "metadata": {
    "collapsed": false
   },
   "outputs": [],
   "source": [
    "\"\"\"\n",
    "Given a BST and an integer K, find the smallest greater integer than K.\n",
    "Example: 40-- 50 -- 80\n",
    "          |    |\n",
    "          |    45\n",
    "          20--30\n",
    "          |\n",
    "          10\n",
    "    K = 35, Output = 40\n",
    "\"\"\"\n",
    "# print (__doc__)\n",
    "import sys"
   ]
  },
  {
   "cell_type": "markdown",
   "metadata": {},
   "source": [
    "Simple Binary search in an array"
   ]
  },
  {
   "cell_type": "code",
   "execution_count": 2,
   "metadata": {
    "collapsed": false
   },
   "outputs": [],
   "source": [
    "## Binary Search of an sorted array\n",
    "def binarySearch(arr, k):\n",
    "    left, right = 0, len(arr)-1\n",
    "\n",
    "    while True:\n",
    "        if right < left:\n",
    "            return False, None\n",
    "        mid = (left + right) // 2\n",
    "        if arr[mid] == k:\n",
    "            return True, mid\n",
    "        if arr[mid] < k:\n",
    "            left = mid + 1\n",
    "        else:\n",
    "            right = mid - 1"
   ]
  },
  {
   "cell_type": "code",
   "execution_count": 3,
   "metadata": {
    "collapsed": false
   },
   "outputs": [
    {
     "name": "stdout",
     "output_type": "stream",
     "text": [
      "-1:(False, None)\n",
      "09:(False, None)\n",
      "10:(True, 0)\n",
      "25:(False, None)\n",
      "40:(True, 3)\n",
      "45:(True, 4)\n",
      "60:(False, None)\n",
      "80:(True, 6)\n",
      "100:(False, None)\n"
     ]
    }
   ],
   "source": [
    "array = [10, 20, 30, 40, 45, 50, 80]\n",
    "test_cases = [-1, 9, 10, 25, 40, 45, 60, 80, 100]\n",
    "for k in test_cases:\n",
    "    print ('{}:{}'.format(str(k).zfill(2), binarySearch(array, k)))"
   ]
  },
  {
   "cell_type": "markdown",
   "metadata": {},
   "source": [
    "Function to find the **next smallest greater integer** than K "
   ]
  },
  {
   "cell_type": "code",
   "execution_count": 4,
   "metadata": {
    "collapsed": true
   },
   "outputs": [],
   "source": [
    "def getMaximumInteger(arr, K):\n",
    "    i = 0\n",
    "    current_max = 1 - sys.maxsize\n",
    "    while i in range(len(arr)):\n",
    "        if arr[i] > K:\n",
    "            current_max = max(arr[i], K)\n",
    "            i = 2*i + 1\n",
    "        else:\n",
    "            current_max = max(K, current_max)\n",
    "            i = 2*i + 2\n",
    "    return current_max "
   ]
  },
  {
   "cell_type": "code",
   "execution_count": 7,
   "metadata": {
    "collapsed": false
   },
   "outputs": [
    {
     "name": "stdout",
     "output_type": "stream",
     "text": [
      "Smallest greater number than 20 is 30\n",
      "Smallest greater number than 44 is 45\n",
      "Smallest greater number than 60 is 80\n",
      "Smallest greater number than 90 is 90\n"
     ]
    }
   ],
   "source": [
    "arr = [40, 20, 50, 10, 30, 45, 80] # Binary tree representation\n",
    "K = [20, 44, 60, 90]\n",
    "for k in K:\n",
    "    print ('Smallest greater number than {} is {}'.format(k, getMaximumInteger(arr, k)))"
   ]
  },
  {
   "cell_type": "code",
   "execution_count": null,
   "metadata": {
    "collapsed": true
   },
   "outputs": [],
   "source": []
  }
 ],
 "metadata": {
  "anaconda-cloud": {},
  "kernelspec": {
   "display_name": "Python [conda root]",
   "language": "python",
   "name": "conda-root-py"
  },
  "language_info": {
   "codemirror_mode": {
    "name": "ipython",
    "version": 3
   },
   "file_extension": ".py",
   "mimetype": "text/x-python",
   "name": "python",
   "nbconvert_exporter": "python",
   "pygments_lexer": "ipython3",
   "version": "3.5.2"
  }
 },
 "nbformat": 4,
 "nbformat_minor": 0
}
