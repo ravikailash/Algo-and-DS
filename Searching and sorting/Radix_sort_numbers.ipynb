{
 "cells": [
  {
   "cell_type": "markdown",
   "metadata": {},
   "source": [
    "**RADIX SORTING** Using buckets i.e similar to counting sort"
   ]
  },
  {
   "cell_type": "code",
   "execution_count": 11,
   "metadata": {
    "collapsed": true
   },
   "outputs": [],
   "source": [
    "import random\n",
    "import sys"
   ]
  },
  {
   "cell_type": "code",
   "execution_count": 12,
   "metadata": {
    "collapsed": true
   },
   "outputs": [],
   "source": [
    "class Buckets:\n",
    "    def __init__(self):\n",
    "        self.buckets = [[] for _ in range(10)]\n",
    "    \n",
    "    # index of bucket[0, 9] and the value\n",
    "    def add(self, bucket, value):\n",
    "        self.buckets[bucket].append(value)\n",
    "    \n",
    "    # returns the array in the order and empties teh queue\n",
    "    def get_array(self):\n",
    "        arr = []\n",
    "        for index in range(10):\n",
    "            if self.buckets[index] != []:\n",
    "                arr.extend(self.buckets[index])\n",
    "                self.buckets[index] = []\n",
    "        return arr\n",
    "    \n",
    "    # prints the buckets in order and doesn't empty the queues\n",
    "    def print_buckets(self, bucket=None):\n",
    "        if bucket is None:\n",
    "            arr = []\n",
    "            for index in range(10):\n",
    "                if self.buckets[index] != []:\n",
    "                    arr.extend(self.buckets[index])\n",
    "            return arr\n",
    "    \n",
    "    # empties the buckets\n",
    "    def empty_buckets(self):\n",
    "        self.buckets = [[] for _ in range(10)]"
   ]
  },
  {
   "cell_type": "code",
   "execution_count": 14,
   "metadata": {
    "collapsed": true
   },
   "outputs": [],
   "source": [
    "b = Buckets()"
   ]
  },
  {
   "cell_type": "code",
   "execution_count": 15,
   "metadata": {
    "collapsed": false
   },
   "outputs": [
    {
     "name": "stdout",
     "output_type": "stream",
     "text": [
      "[1121, 759, 1421, 1668, 1074, 1160, 1294, 562, 606, 1951, 9, 7, 5, 17, 17, 2, 18, 4, 7, 7]\n"
     ]
    }
   ],
   "source": [
    "arr = [random.randint(500, 2000) for _ in range(10)]\n",
    "arr.extend([random.randint(1, 20) for _ in range(10)])\n",
    "print(arr)"
   ]
  },
  {
   "cell_type": "markdown",
   "metadata": {},
   "source": [
    "*Using the maximum integer as the break case. Convert the maximum integer into string and use the length* <br>\n",
    "**Pros** : Cuts the loop to run one more time unlike other method <br>\n",
    "**Cons** : Needs O(n) to find the max integer"
   ]
  },
  {
   "cell_type": "code",
   "execution_count": 16,
   "metadata": {
    "collapsed": false
   },
   "outputs": [],
   "source": [
    "x = arr.copy()\n",
    "pos = 1\n",
    "while pos <= len(str(max(x))):\n",
    "    for i in x:\n",
    "        t = (i % pow(10, pos)) // pow(10, pos-1)\n",
    "        b.add(t, i)\n",
    "    x = b.get_array()\n",
    "    pos += 1"
   ]
  },
  {
   "cell_type": "code",
   "execution_count": 17,
   "metadata": {
    "collapsed": false
   },
   "outputs": [
    {
     "name": "stdout",
     "output_type": "stream",
     "text": [
      "[2, 4, 5, 7, 7, 7, 9, 17, 17, 18, 562, 606, 759, 1074, 1121, 1160, 1294, 1421, 1668, 1951]\n"
     ]
    }
   ],
   "source": [
    "print(x)"
   ]
  },
  {
   "cell_type": "markdown",
   "metadata": {},
   "source": [
    "*Runs until the break case is met *<br>\n",
    "**Pros** : Eliminates the need to find the max integer <br>\n",
    "**Cons** : Runs one loop more than the MSB position of the max integer"
   ]
  },
  {
   "cell_type": "code",
   "execution_count": 18,
   "metadata": {
    "collapsed": false
   },
   "outputs": [],
   "source": [
    "y = arr.copy()\n",
    "pos = 1\n",
    "while True:\n",
    "    case = -sys.maxsize\n",
    "    for i in y:\n",
    "        t = (i % pow(10, pos)) // pow(10, pos-1)\n",
    "        case = max(t, case)\n",
    "        b.add(t, i)\n",
    "    y = b.get_array()\n",
    "    if case == 0:\n",
    "        break\n",
    "    pos +=1"
   ]
  },
  {
   "cell_type": "code",
   "execution_count": 19,
   "metadata": {
    "collapsed": false
   },
   "outputs": [
    {
     "name": "stdout",
     "output_type": "stream",
     "text": [
      "[2, 4, 5, 7, 7, 7, 9, 17, 17, 18, 562, 606, 759, 1074, 1121, 1160, 1294, 1421, 1668, 1951]\n"
     ]
    }
   ],
   "source": [
    "print(y)"
   ]
  },
  {
   "cell_type": "code",
   "execution_count": 20,
   "metadata": {
    "collapsed": false
   },
   "outputs": [
    {
     "name": "stdout",
     "output_type": "stream",
     "text": [
      "True\n"
     ]
    }
   ],
   "source": [
    "print(x == y)"
   ]
  }
 ],
 "metadata": {
  "anaconda-cloud": {},
  "kernelspec": {
   "display_name": "Python [conda root]",
   "language": "python",
   "name": "conda-root-py"
  },
  "language_info": {
   "codemirror_mode": {
    "name": "ipython",
    "version": 3
   },
   "file_extension": ".py",
   "mimetype": "text/x-python",
   "name": "python",
   "nbconvert_exporter": "python",
   "pygments_lexer": "ipython3",
   "version": "3.5.2"
  }
 },
 "nbformat": 4,
 "nbformat_minor": 2
}
