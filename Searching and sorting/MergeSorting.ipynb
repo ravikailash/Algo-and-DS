{
 "cells": [
  {
   "cell_type": "code",
   "execution_count": 2,
   "metadata": {
    "collapsed": true
   },
   "outputs": [],
   "source": [
    "import random"
   ]
  },
  {
   "cell_type": "code",
   "execution_count": 3,
   "metadata": {
    "collapsed": false
   },
   "outputs": [],
   "source": [
    "def mergesort(lst, printsteps = False):\n",
    "    if len(lst) <= 1:\n",
    "        if printsteps: print ('Returning ...', lst)\n",
    "        return lst\n",
    "    middle = int(len(lst) / 2)\n",
    "    if lst and printsteps: \n",
    "        print ('lst: ', lst)\n",
    "        print ('len: ', len(lst))\n",
    "    \n",
    "    if printsteps: print ('Merge-left')\n",
    "    left = mergesort(lst[:middle], printsteps)\n",
    "    \n",
    "    if printsteps: print ('Merge-right')\n",
    "    right = mergesort(lst[middle:], printsteps)\n",
    "    \n",
    "    if printsteps: \n",
    "        print ('Left : ', left)\n",
    "        print ('Right: ', right)\n",
    "    return merge(left, right, printsteps)"
   ]
  },
  {
   "cell_type": "code",
   "execution_count": 4,
   "metadata": {
    "collapsed": true
   },
   "outputs": [],
   "source": [
    "def merge(left, right, printsteps= False):\n",
    "    print ('#'*5, 'MERGING', '#'*5)\n",
    "    result = []\n",
    "    i , j = 0 , 0\n",
    "    while i < len (left) and j < len (right):\n",
    "        if left[i] <= right [j]:\n",
    "            result.append(left[i])\n",
    "            i+=1\n",
    "        else:\n",
    "            result.append(right[j])\n",
    "            j+=1\n",
    "            \n",
    "    result += left[i:]\n",
    "    result += right[j:]\n",
    "    print ('Result: ', result)\n",
    "    return result"
   ]
  },
  {
   "cell_type": "code",
   "execution_count": 5,
   "metadata": {
    "collapsed": false
   },
   "outputs": [
    {
     "name": "stdout",
     "output_type": "stream",
     "text": [
      "Before sorting:  [43, 7, 43, 34, 13, 19, 11, 35, 4, 4]\n",
      "lst:  [43, 7, 43, 34, 13, 19, 11, 35, 4, 4]\n",
      "len:  10\n",
      "Merge-left\n",
      "lst:  [43, 7, 43, 34, 13]\n",
      "len:  5\n",
      "Merge-left\n",
      "lst:  [43, 7]\n",
      "len:  2\n",
      "Merge-left\n",
      "Returning ... [43]\n",
      "Merge-right\n",
      "Returning ... [7]\n",
      "Left :  [43]\n",
      "Right:  [7]\n",
      "##### MERGING #####\n",
      "Result:  [7, 43]\n",
      "Merge-right\n",
      "lst:  [43, 34, 13]\n",
      "len:  3\n",
      "Merge-left\n",
      "Returning ... [43]\n",
      "Merge-right\n",
      "lst:  [34, 13]\n",
      "len:  2\n",
      "Merge-left\n",
      "Returning ... [34]\n",
      "Merge-right\n",
      "Returning ... [13]\n",
      "Left :  [34]\n",
      "Right:  [13]\n",
      "##### MERGING #####\n",
      "Result:  [13, 34]\n",
      "Left :  [43]\n",
      "Right:  [13, 34]\n",
      "##### MERGING #####\n",
      "Result:  [13, 34, 43]\n",
      "Left :  [7, 43]\n",
      "Right:  [13, 34, 43]\n",
      "##### MERGING #####\n",
      "Result:  [7, 13, 34, 43, 43]\n",
      "Merge-right\n",
      "lst:  [19, 11, 35, 4, 4]\n",
      "len:  5\n",
      "Merge-left\n",
      "lst:  [19, 11]\n",
      "len:  2\n",
      "Merge-left\n",
      "Returning ... [19]\n",
      "Merge-right\n",
      "Returning ... [11]\n",
      "Left :  [19]\n",
      "Right:  [11]\n",
      "##### MERGING #####\n",
      "Result:  [11, 19]\n",
      "Merge-right\n",
      "lst:  [35, 4, 4]\n",
      "len:  3\n",
      "Merge-left\n",
      "Returning ... [35]\n",
      "Merge-right\n",
      "lst:  [4, 4]\n",
      "len:  2\n",
      "Merge-left\n",
      "Returning ... [4]\n",
      "Merge-right\n",
      "Returning ... [4]\n",
      "Left :  [4]\n",
      "Right:  [4]\n",
      "##### MERGING #####\n",
      "Result:  [4, 4]\n",
      "Left :  [35]\n",
      "Right:  [4, 4]\n",
      "##### MERGING #####\n",
      "Result:  [4, 4, 35]\n",
      "Left :  [11, 19]\n",
      "Right:  [4, 4, 35]\n",
      "##### MERGING #####\n",
      "Result:  [4, 4, 11, 19, 35]\n",
      "Left :  [7, 13, 34, 43, 43]\n",
      "Right:  [4, 4, 11, 19, 35]\n",
      "##### MERGING #####\n",
      "Result:  [4, 4, 7, 11, 13, 19, 34, 35, 43, 43]\n",
      "After sorting:  [4, 4, 7, 11, 13, 19, 34, 35, 43, 43]\n"
     ]
    }
   ],
   "source": [
    "arr = [random.randint(1, 50) for x in range(10)]\n",
    "print ('Before sorting: ', arr)\n",
    "arr = mergesort(arr, printsteps= True)\n",
    "print ('After sorting: ', arr)"
   ]
  },
  {
   "cell_type": "code",
   "execution_count": null,
   "metadata": {
    "collapsed": true
   },
   "outputs": [],
   "source": []
  },
  {
   "cell_type": "code",
   "execution_count": 2,
   "metadata": {
    "collapsed": true
   },
   "outputs": [],
   "source": [
    "####### Version without printing steps ########\n",
    "\n",
    "def mergesort_1(lst):\n",
    "    if len(lst) <= 1:\n",
    "        return lst\n",
    "    middle = int(len(lst) / 2)\n",
    "    left = mergesort_1(lst[:middle])\n",
    "    right = mergesort_1(lst[middle:])\n",
    "\n",
    "    return merge(left, right)\n",
    "\n",
    "def merge(left, right):\n",
    "    result = []\n",
    "    i , j = 0 , 0\n",
    "    while i < len (left) and j < len (right):\n",
    "        if left[i] <= right [j]:\n",
    "            result.append(left[i])\n",
    "            i+=1\n",
    "        else:\n",
    "            result.append(right[j])\n",
    "            j+=1\n",
    "            \n",
    "    result += left[i:]\n",
    "    result += right[j:]\n",
    "    return result"
   ]
  },
  {
   "cell_type": "code",
   "execution_count": 5,
   "metadata": {
    "collapsed": false
   },
   "outputs": [
    {
     "name": "stdout",
     "output_type": "stream",
     "text": [
      "Before: [39, 26, 11, 8, 28, 16, 3, 12, 30, 32]\n",
      "After : [3, 8, 11, 12, 16, 26, 28, 30, 32, 39]\n"
     ]
    }
   ],
   "source": [
    "import random\n",
    "arr = random.sample(range(1, 50), 10)\n",
    "print ('Before:', arr)\n",
    "print ('After :', mergesort_1(arr))"
   ]
  },
  {
   "cell_type": "code",
   "execution_count": null,
   "metadata": {
    "collapsed": true
   },
   "outputs": [],
   "source": []
  }
 ],
 "metadata": {
  "anaconda-cloud": {},
  "kernelspec": {
   "display_name": "Python [conda root]",
   "language": "python",
   "name": "conda-root-py"
  },
  "language_info": {
   "codemirror_mode": {
    "name": "ipython",
    "version": 3
   },
   "file_extension": ".py",
   "mimetype": "text/x-python",
   "name": "python",
   "nbconvert_exporter": "python",
   "pygments_lexer": "ipython3",
   "version": "3.5.2"
  }
 },
 "nbformat": 4,
 "nbformat_minor": 1
}
