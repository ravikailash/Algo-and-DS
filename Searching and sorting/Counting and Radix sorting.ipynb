{
 "cells": [
  {
   "cell_type": "markdown",
   "metadata": {},
   "source": [
    "**COUNTING SORT *(integers)***"
   ]
  },
  {
   "cell_type": "code",
   "execution_count": 1,
   "metadata": {
    "collapsed": true
   },
   "outputs": [],
   "source": [
    "# counting sort - for small range(k)\n",
    "def count_sort(A, k):\n",
    "    C = [0 for _ in range(k+1)]\n",
    "\n",
    "    for i in range(len(A)):\n",
    "        C[A[i]] = C[A[i]] + 1\n",
    "    # print('C(after step-1):', C)\n",
    "    \n",
    "    for i in range(1, len(C)):\n",
    "        C[i] += C[i-1]\n",
    "    # print('C(after step-2):',C)\n",
    "    \n",
    "    B = [None for _ in range(len(A))]\n",
    "    \n",
    "    for j in range(len(A)-1, -1, -1):\n",
    "        B[C[A[j]]-1] = A[j]\n",
    "        C[A[j]] = C[A[j]] -1\n",
    "    return B"
   ]
  },
  {
   "cell_type": "code",
   "execution_count": 2,
   "metadata": {
    "collapsed": false
   },
   "outputs": [
    {
     "name": "stdout",
     "output_type": "stream",
     "text": [
      "Before: [2, 5, 3, 0, 2, 3, 0, 3]\n",
      "After : [0, 0, 2, 2, 3, 3, 3, 5]\n"
     ]
    }
   ],
   "source": [
    "arr = [2, 5, 3, 0, 2, 3, 0, 3]\n",
    "arr_sorted = count_sort(arr, max(arr))\n",
    "print('Before:', arr)\n",
    "print('After :', arr_sorted)"
   ]
  },
  {
   "cell_type": "code",
   "execution_count": 3,
   "metadata": {
    "collapsed": false
   },
   "outputs": [
    {
     "name": "stdout",
     "output_type": "stream",
     "text": [
      "[5, 4, 3, 2, 1, 6, 7, 8, 9, 5, 4, 3, 2]\n",
      "[1, 2, 2, 3, 3, 4, 4, 5, 5, 6, 7, 8, 9]\n"
     ]
    }
   ],
   "source": [
    "arr2 = [5,4,3,2,1,6,7,8,9,5,4,3,2]\n",
    "print(arr2)\n",
    "print(count_sort(arr2, max(arr2)))"
   ]
  },
  {
   "cell_type": "markdown",
   "metadata": {},
   "source": [
    "**COUNTING SORT *(alphabetic chars)***"
   ]
  },
  {
   "cell_type": "code",
   "execution_count": 4,
   "metadata": {
    "collapsed": true
   },
   "outputs": [],
   "source": [
    "def counting_sort(s):\n",
    "    output = [0 for _ in range(256)]\n",
    "    count = [0 for _ in range(256)]\n",
    "    \n",
    "    ans = [\"\" for _ in range(len(s))]\n",
    "    for i in s:\n",
    "        count[ord(i)] += 1\n",
    "\n",
    "    for i in range(1, 256):\n",
    "        count[i] += count[i-1]\n",
    "\n",
    "    for i in range(len(s)):\n",
    "        output[count[ord(s[i])]] = s[i]\n",
    "        count[ord(s[i])] -= 1\n",
    "\n",
    "    for i in range(1,len(s)):\n",
    "        ans[i] = output[i]\n",
    "    return ''.join(ans)"
   ]
  },
  {
   "cell_type": "code",
   "execution_count": 5,
   "metadata": {
    "collapsed": false
   },
   "outputs": [
    {
     "data": {
      "text/plain": [
       "'  aabefhilnpst'"
      ]
     },
     "execution_count": 5,
     "metadata": {},
     "output_type": "execute_result"
    }
   ],
   "source": [
    "counting_sort('alphabet is fun')"
   ]
  },
  {
   "cell_type": "markdown",
   "metadata": {},
   "source": [
    "**RADIX SORT** <small> Using count sort for inside sorting</small>"
   ]
  },
  {
   "cell_type": "code",
   "execution_count": 6,
   "metadata": {
    "collapsed": true
   },
   "outputs": [],
   "source": [
    "def countingSortUtil(arr, exp1):\n",
    "    n = len(arr)\n",
    "    output = [0] * (n)\n",
    "    count = [0] * (10)\n",
    " \n",
    "    # Store count of occurrences in count[]\n",
    "    for i in range(0, n):\n",
    "        index = (arr[i]//exp1)\n",
    "        count[ (index)%10 ] += 1\n",
    " \n",
    "    # Change count[i] so that count[i] now contains actual\n",
    "    #  position of this digit in output array\n",
    "    for i in range(1,10):\n",
    "        count[i] += count[i-1]\n",
    " \n",
    "    # Build the output array\n",
    "    i = n-1\n",
    "    while i>=0:\n",
    "        index = (arr[i]//exp1)\n",
    "        output[ count[ (index)%10 ] - 1] = arr[i]\n",
    "        count[ (index)%10 ] -= 1\n",
    "        i -= 1\n",
    "    for i in range(0,len(arr)):\n",
    "        arr[i] = output[i]"
   ]
  },
  {
   "cell_type": "code",
   "execution_count": 7,
   "metadata": {
    "collapsed": false
   },
   "outputs": [],
   "source": [
    "def radixSort(arr):\n",
    "    max1 = max(arr)\n",
    " \n",
    "    # Do counting sort for every digit. Note that instead\n",
    "    # of passing digit number, exp is passed. exp is 10^i\n",
    "    # where i is current digit number\n",
    "    exp = 1\n",
    "    while max1//exp > 0:\n",
    "        countingSortUtil(arr,exp)\n",
    "        exp *= 10"
   ]
  },
  {
   "cell_type": "code",
   "execution_count": 10,
   "metadata": {
    "collapsed": false
   },
   "outputs": [
    {
     "data": {
      "text/plain": [
       "[2, 24, 45, 66, 75, 90, 170, 802]"
      ]
     },
     "execution_count": 10,
     "metadata": {},
     "output_type": "execute_result"
    }
   ],
   "source": [
    "arr = [ 170, 45, 75, 90, 802, 24, 2, 66]\n",
    "radixSort(arr)\n",
    "arr"
   ]
  },
  {
   "cell_type": "code",
   "execution_count": 9,
   "metadata": {
    "collapsed": false
   },
   "outputs": [
    {
     "data": {
      "text/plain": [
       "[2, 24, 45, 66, 75, 90, 170, 802]"
      ]
     },
     "execution_count": 9,
     "metadata": {},
     "output_type": "execute_result"
    }
   ],
   "source": [
    "arr1 = [ 170, 45, 75, 90, 802, 24, 2, 66]\n",
    "count_sort(arr1, max(arr1))"
   ]
  },
  {
   "cell_type": "code",
   "execution_count": null,
   "metadata": {
    "collapsed": true
   },
   "outputs": [],
   "source": []
  }
 ],
 "metadata": {
  "anaconda-cloud": {},
  "kernelspec": {
   "display_name": "Python [conda root]",
   "language": "python",
   "name": "conda-root-py"
  },
  "language_info": {
   "codemirror_mode": {
    "name": "ipython",
    "version": 3
   },
   "file_extension": ".py",
   "mimetype": "text/x-python",
   "name": "python",
   "nbconvert_exporter": "python",
   "pygments_lexer": "ipython3",
   "version": "3.5.2"
  }
 },
 "nbformat": 4,
 "nbformat_minor": 2
}
