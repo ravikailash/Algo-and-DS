{
 "cells": [
  {
   "cell_type": "markdown",
   "metadata": {},
   "source": [
    "**Minheaps and Maxheaps**"
   ]
  },
  {
   "cell_type": "code",
   "execution_count": 4,
   "metadata": {
    "collapsed": true
   },
   "outputs": [],
   "source": [
    "items = [13, 14, 94, 33, 82, 25, 59, 94, 65, 23, 45, 27, 73, 25, 39, 10]"
   ]
  },
  {
   "cell_type": "markdown",
   "metadata": {},
   "source": [
    "**MAX HEAPS**"
   ]
  },
  {
   "cell_type": "code",
   "execution_count": 18,
   "metadata": {
    "collapsed": true
   },
   "outputs": [],
   "source": [
    "class MaxHeap:\n",
    "    def __init__(self, arr=None):\n",
    "        self.heap = arr if arr is not None else []\n",
    "        self.__heapify__()\n",
    "    \n",
    "    def add_element(self, item):\n",
    "        if isinstance(item, list):\n",
    "            self.heap.extend(item)\n",
    "        else:\n",
    "            self.heap.append(item)\n",
    "        self.__heapify__()\n",
    "    \n",
    "    def __heapify__(self):\n",
    "        start = (len(self.heap)-2) // 2\n",
    "        while start >= 0:\n",
    "            self.__sift_down__(start, len(self.heap))\n",
    "            start -= 1\n",
    "            \n",
    "    def __sift_down__(self, root, end):\n",
    "        while root*2 + 1 < end:\n",
    "            child = 2 * root + 1\n",
    "            if child + 1 < end and self.heap[child] < self.heap[child+1]:\n",
    "                child += 1\n",
    "            if child < end and self.heap[root] < self.heap[child]:\n",
    "                self.heap[child], self.heap[root] = self.heap[root], self.heap[child]\n",
    "                root = child\n",
    "            else:\n",
    "                break\n",
    "    \n",
    "    def get(self):\n",
    "        return self.heap\n",
    "    \n",
    "    def get_max(self):\n",
    "        if self.size() > 0:\n",
    "            return self.heap[0]\n",
    "        return None\n",
    "    \n",
    "    def extract_max(self):\n",
    "        if self.size() > 0:\n",
    "            max_item = self.heap.pop(0)\n",
    "            self.__heapify__()\n",
    "            return max_item\n",
    "        return None\n",
    "    \n",
    "    def is_empty(self):\n",
    "        return self.heap == []\n",
    "    \n",
    "    def size(self):\n",
    "        return len(self.heap)"
   ]
  },
  {
   "cell_type": "code",
   "execution_count": 19,
   "metadata": {
    "collapsed": false
   },
   "outputs": [],
   "source": [
    "max_heap = MaxHeap(items.copy())"
   ]
  },
  {
   "cell_type": "code",
   "execution_count": 20,
   "metadata": {
    "collapsed": false
   },
   "outputs": [
    {
     "name": "stdout",
     "output_type": "stream",
     "text": [
      "[94, 82, 94, 65, 45, 73, 59, 33, 14, 23, 13, 27, 25, 25, 39, 10]\n"
     ]
    }
   ],
   "source": [
    "print(max_heap.get())"
   ]
  },
  {
   "cell_type": "code",
   "execution_count": 21,
   "metadata": {
    "collapsed": false
   },
   "outputs": [
    {
     "name": "stdout",
     "output_type": "stream",
     "text": [
      "94 94 82 73 65 59 45 39 33 27 25 25 23 14 13 10 "
     ]
    }
   ],
   "source": [
    "for _ in range(len(items)):\n",
    "    print(max_heap.extract_max(), end=' ')"
   ]
  },
  {
   "cell_type": "code",
   "execution_count": 22,
   "metadata": {
    "collapsed": false
   },
   "outputs": [
    {
     "name": "stdout",
     "output_type": "stream",
     "text": [
      "True\n"
     ]
    }
   ],
   "source": [
    "print(max_heap.is_empty())"
   ]
  },
  {
   "cell_type": "code",
   "execution_count": 23,
   "metadata": {
    "collapsed": false
   },
   "outputs": [
    {
     "name": "stdout",
     "output_type": "stream",
     "text": [
      "None\n"
     ]
    }
   ],
   "source": [
    "print(max_heap.extract_max())"
   ]
  },
  {
   "cell_type": "markdown",
   "metadata": {},
   "source": [
    "**MIN HEAPS**"
   ]
  },
  {
   "cell_type": "code",
   "execution_count": 49,
   "metadata": {
    "collapsed": true
   },
   "outputs": [],
   "source": [
    "class MinHeap:\n",
    "    def __init__(self, arr=None):\n",
    "        self.heap = [] if arr is None else arr\n",
    "        self.__heapify__()\n",
    "        \n",
    "    def add_element(self, item):\n",
    "        if isinstance(item, list):\n",
    "            self.heap.extend(item)\n",
    "        else:\n",
    "            self.heap.append(item)\n",
    "        self.__heapify__()\n",
    "    \n",
    "    def get(self):\n",
    "        return self.heap\n",
    "    \n",
    "    def get_min(self):\n",
    "        if self.size() > 0:\n",
    "            return self.heap[0]\n",
    "        return None\n",
    "    \n",
    "    def extract_min(self):\n",
    "        if self.size() > 0:\n",
    "            min_item = self.heap.pop(0)\n",
    "            self.__heapify__()\n",
    "            return min_item\n",
    "        return None\n",
    "    \n",
    "    def size(self):\n",
    "        return len(self.heap)\n",
    "    \n",
    "    def is_empty(self):\n",
    "        return self.heap == []\n",
    "\n",
    "    def __heapify__(self):\n",
    "        flag = 0\n",
    "        for i in range(1, self.size()):\n",
    "            if self.heap[i] < self.heap[(i-1) // 2]:\n",
    "                self.heap[i], self.heap[(i-1)//2] = self.heap[(i-1)//2], self.heap[i]\n",
    "                flag += 1\n",
    "            if flag != 0:\n",
    "                self.__heapify__()\n",
    "                "
   ]
  },
  {
   "cell_type": "code",
   "execution_count": 50,
   "metadata": {
    "collapsed": false
   },
   "outputs": [],
   "source": [
    "min_heap = MinHeap(items.copy())"
   ]
  },
  {
   "cell_type": "code",
   "execution_count": 51,
   "metadata": {
    "collapsed": false
   },
   "outputs": [
    {
     "data": {
      "text/plain": [
       "[10, 13, 25, 14, 23, 27, 25, 33, 65, 82, 45, 94, 73, 59, 39, 94]"
      ]
     },
     "execution_count": 51,
     "metadata": {},
     "output_type": "execute_result"
    }
   ],
   "source": [
    "min_heap.get()"
   ]
  },
  {
   "cell_type": "code",
   "execution_count": 52,
   "metadata": {
    "collapsed": false
   },
   "outputs": [
    {
     "name": "stdout",
     "output_type": "stream",
     "text": [
      "10 13 14 23 25 25 27 33 39 45 59 65 73 82 94 94 "
     ]
    }
   ],
   "source": [
    "for _ in range(len(items)):\n",
    "    print(min_heap.extract_min(), end=' ')"
   ]
  },
  {
   "cell_type": "code",
   "execution_count": 53,
   "metadata": {
    "collapsed": false
   },
   "outputs": [
    {
     "name": "stdout",
     "output_type": "stream",
     "text": [
      "True\n"
     ]
    }
   ],
   "source": [
    "print(min_heap.is_empty())"
   ]
  }
 ],
 "metadata": {
  "anaconda-cloud": {},
  "kernelspec": {
   "display_name": "Python [default]",
   "language": "python",
   "name": "python3"
  },
  "language_info": {
   "codemirror_mode": {
    "name": "ipython",
    "version": 3
   },
   "file_extension": ".py",
   "mimetype": "text/x-python",
   "name": "python",
   "nbconvert_exporter": "python",
   "pygments_lexer": "ipython3",
   "version": "3.5.2"
  }
 },
 "nbformat": 4,
 "nbformat_minor": 2
}
